{
 "cells": [
  {
   "cell_type": "code",
   "execution_count": 2,
   "id": "676bb876-b589-4021-9848-2d53ce4928b5",
   "metadata": {},
   "outputs": [],
   "source": [
    "import numpy as np\n",
    "import pandas as pd\n",
    "from matplotlib.pyplot import subplots"
   ]
  },
  {
   "cell_type": "code",
   "execution_count": 3,
   "id": "e0a6349d-e4bb-4aec-a999-d84ec9f03b46",
   "metadata": {},
   "outputs": [],
   "source": [
    "import statsmodels.api as sm"
   ]
  },
  {
   "cell_type": "code",
   "execution_count": 4,
   "id": "6ffc93ff-ff1a-44ed-8657-85f3f5e04b78",
   "metadata": {},
   "outputs": [],
   "source": [
    "from statsmodels.stats.outliers_influence \\\n",
    "     import variance_inflation_factor as VIF\n",
    "from statsmodels.stats.anova import anova_lm"
   ]
  },
  {
   "cell_type": "code",
   "execution_count": 5,
   "id": "fd05b54a-bcfc-428d-83d2-651f82b2d7c7",
   "metadata": {},
   "outputs": [],
   "source": [
    "from ISLP import load_data\n",
    "from ISLP.models import (ModelSpec as MS,\n",
    "                         summarize,\n",
    "                         poly)"
   ]
  },
  {
   "cell_type": "code",
   "execution_count": null,
   "id": "b81d7b70-0735-419c-8334-007c7e830a03",
   "metadata": {},
   "outputs": [],
   "source": []
  },
  {
   "cell_type": "markdown",
   "id": "0e76b295-0f67-4c21-a290-ad616b4e3f86",
   "metadata": {},
   "source": [
    "multi-regression can combined with correlation metrix.\n",
    "- sale ~ intercept + tv+ radio +newspaper\n",
    "- coefficient of newspaper: -0.001 and p-value insignificant\n",
    "- but correlation matrix show 0.2283 between sales and newspaper and 0.35 between radio and newspaper\n",
    "\n",
    "interpretation\n",
    "- newspaper advertising is a surrogate for radio. newspapoer gets credit for association between radio and sales\n"
   ]
  },
  {
   "cell_type": "code",
   "execution_count": null,
   "id": "b0c3a2c8-f647-4c78-a8a2-bbe42ac37155",
   "metadata": {},
   "outputs": [],
   "source": []
  },
  {
   "cell_type": "code",
   "execution_count": null,
   "id": "52acfe62-411f-48f2-aac9-d87e2324901f",
   "metadata": {},
   "outputs": [],
   "source": []
  },
  {
   "cell_type": "code",
   "execution_count": null,
   "id": "532cae94-a8fd-40c5-b049-c3434b7ab482",
   "metadata": {},
   "outputs": [],
   "source": []
  },
  {
   "cell_type": "code",
   "execution_count": null,
   "id": "9d8a777c-c3c9-4480-b1b5-9788b9418051",
   "metadata": {},
   "outputs": [],
   "source": []
  },
  {
   "cell_type": "code",
   "execution_count": null,
   "id": "aa00319d-169a-4269-9366-828e836ecbec",
   "metadata": {},
   "outputs": [],
   "source": []
  },
  {
   "cell_type": "code",
   "execution_count": null,
   "id": "23348535-b8cb-4800-8e93-bac37f3fcc6a",
   "metadata": {},
   "outputs": [],
   "source": []
  },
  {
   "cell_type": "code",
   "execution_count": null,
   "id": "d4ad5f30-1c05-43a7-aff6-e2879f7e473f",
   "metadata": {},
   "outputs": [],
   "source": []
  },
  {
   "cell_type": "code",
   "execution_count": null,
   "id": "e577361a-77cd-434c-9bf9-f21f7c3d4cea",
   "metadata": {},
   "outputs": [],
   "source": []
  },
  {
   "cell_type": "code",
   "execution_count": null,
   "id": "55ec1c7c-541b-470d-8348-9e78b1be0590",
   "metadata": {},
   "outputs": [],
   "source": []
  },
  {
   "cell_type": "code",
   "execution_count": null,
   "id": "a17646e1-c88e-45c5-901b-4de97e76670d",
   "metadata": {},
   "outputs": [],
   "source": []
  },
  {
   "cell_type": "code",
   "execution_count": null,
   "id": "2c8f4769-feb7-45d8-b24f-c6f838113e8d",
   "metadata": {},
   "outputs": [],
   "source": []
  }
 ],
 "metadata": {
  "kernelspec": {
   "display_name": "Python 3 (ipykernel)",
   "language": "python",
   "name": "python3"
  },
  "language_info": {
   "codemirror_mode": {
    "name": "ipython",
    "version": 3
   },
   "file_extension": ".py",
   "mimetype": "text/x-python",
   "name": "python",
   "nbconvert_exporter": "python",
   "pygments_lexer": "ipython3",
   "version": "3.9.18"
  }
 },
 "nbformat": 4,
 "nbformat_minor": 5
}
